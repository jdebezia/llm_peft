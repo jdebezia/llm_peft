{
 "cells": [
  {
   "cell_type": "code",
   "execution_count": 1,
   "id": "0ddaf658-c773-4f85-9c27-45f2f3b82205",
   "metadata": {
    "tags": []
   },
   "outputs": [],
   "source": [
    "%load_ext autoreload\n",
    "%autoreload 2"
   ]
  },
  {
   "cell_type": "code",
   "execution_count": 2,
   "id": "cb545a76-0273-4d2d-821a-670857f56281",
   "metadata": {
    "tags": []
   },
   "outputs": [],
   "source": [
    "import pandas as pd\n",
    "import sqlite3\n",
    "from transformers import AutoTokenizer, AutoModelForCausalLM\n",
    "\n",
    "from scripts.llm import LLM, prepare_query, generate_sql"
   ]
  },
  {
   "cell_type": "markdown",
   "id": "27cbefb8-0bad-4434-9a93-3b9b0d39628e",
   "metadata": {},
   "source": [
    "## Chargment du LLM fine-tuned"
   ]
  },
  {
   "cell_type": "code",
   "execution_count": 3,
   "id": "b603de1f-4dbf-482f-bc65-5a85fd752f71",
   "metadata": {
    "tags": []
   },
   "outputs": [],
   "source": [
    "model_id = \"Qwen/Qwen2-1.5B-Instruct\""
   ]
  },
  {
   "cell_type": "code",
   "execution_count": 4,
   "id": "4c1def98-bf33-4648-9627-f57c435b3556",
   "metadata": {
    "tags": []
   },
   "outputs": [],
   "source": [
    "tokenizer = AutoTokenizer.from_pretrained(model_id)"
   ]
  },
  {
   "cell_type": "code",
   "execution_count": 5,
   "id": "5c7cfcc5-f69f-49e7-88ea-a228c37aa479",
   "metadata": {
    "tags": []
   },
   "outputs": [],
   "source": [
    "model = AutoModelForCausalLM.from_pretrained(\n",
    "    \"./finetuned_llm/qwen2\",\n",
    "    torch_dtype=\"auto\",\n",
    "    device_map=\"auto\",\n",
    "    max_memory={0: \"5GB\"}\n",
    ")"
   ]
  },
  {
   "cell_type": "code",
   "execution_count": 6,
   "id": "1abf9fa8-ba72-454f-88e5-9e35afce0d7f",
   "metadata": {
    "tags": []
   },
   "outputs": [],
   "source": [
    "llm = LLM(model=model, tokenizer=tokenizer)"
   ]
  },
  {
   "cell_type": "markdown",
   "id": "f798705e-e085-4dfe-8dba-0e46ee780667",
   "metadata": {},
   "source": [
    "## Instanciation de la BDD"
   ]
  },
  {
   "cell_type": "code",
   "execution_count": 7,
   "id": "4e20ac62-a81c-46bf-889c-d586caabab46",
   "metadata": {
    "tags": []
   },
   "outputs": [],
   "source": [
    "# creating file path\n",
    "dbfile = \"sqllite/atis-db.sqlite\"\n",
    "con = sqlite3.connect(dbfile)"
   ]
  },
  {
   "cell_type": "markdown",
   "id": "f1fe912c-a187-41f5-b1cd-97ca208a2ac4",
   "metadata": {},
   "source": [
    "## Requêtes SQL à tester:"
   ]
  },
  {
   "cell_type": "markdown",
   "id": "c22db782-f2a6-4e31-84ad-66b4876e58ef",
   "metadata": {
    "tags": []
   },
   "source": [
    "1. `List ground transportation in BALTIMORE`\n",
    "\n",
    "Résultat attendu:\n",
    "| transport_type     |\n",
    "| -----------------: |\n",
    "| AIR TAXI OPERATION |\n",
    "| LIMOUSINE          |\n",
    "| RENTAL CAR         |"
   ]
  },
  {
   "cell_type": "code",
   "execution_count": 10,
   "id": "25b92853-9721-460a-8074-046009ceca11",
   "metadata": {
    "tags": []
   },
   "outputs": [
    {
     "data": {
      "text/html": [
       "<div>\n",
       "<style scoped>\n",
       "    .dataframe tbody tr th:only-of-type {\n",
       "        vertical-align: middle;\n",
       "    }\n",
       "\n",
       "    .dataframe tbody tr th {\n",
       "        vertical-align: top;\n",
       "    }\n",
       "\n",
       "    .dataframe thead th {\n",
       "        text-align: right;\n",
       "    }\n",
       "</style>\n",
       "<table border=\"1\" class=\"dataframe\">\n",
       "  <thead>\n",
       "    <tr style=\"text-align: right;\">\n",
       "      <th></th>\n",
       "      <th>transport_type</th>\n",
       "    </tr>\n",
       "  </thead>\n",
       "  <tbody>\n",
       "    <tr>\n",
       "      <th>0</th>\n",
       "      <td>AIR TAXI OPERATION</td>\n",
       "    </tr>\n",
       "    <tr>\n",
       "      <th>1</th>\n",
       "      <td>LIMOUSINE</td>\n",
       "    </tr>\n",
       "    <tr>\n",
       "      <th>2</th>\n",
       "      <td>RENTAL CAR</td>\n",
       "    </tr>\n",
       "  </tbody>\n",
       "</table>\n",
       "</div>"
      ],
      "text/plain": [
       "       transport_type\n",
       "0  AIR TAXI OPERATION\n",
       "1           LIMOUSINE\n",
       "2          RENTAL CAR"
      ]
     },
     "execution_count": 10,
     "metadata": {},
     "output_type": "execute_result"
    }
   ],
   "source": [
    "instruction = \"List ground transportation in BALTIMORE\"\n",
    "query = prepare_query(instruction, \"./prompt.json\")\n",
    "sql_generated = generate_sql(query, llm)\n",
    "pd.read_sql_query(sql_generated, con)"
   ]
  },
  {
   "cell_type": "markdown",
   "id": "42ade9ad-4577-4fc4-b159-742655421150",
   "metadata": {},
   "source": [
    "2. `What's the aircraft type with the greatest seating capacity`\n",
    "\n",
    "Résultat attendu:\n",
    "| aircraft_code |\n",
    "| ------------: |\n",
    "| 744           |"
   ]
  },
  {
   "cell_type": "code",
   "execution_count": 11,
   "id": "619b32dd-fbc2-4e4c-a601-85978280c144",
   "metadata": {
    "tags": []
   },
   "outputs": [
    {
     "data": {
      "text/html": [
       "<div>\n",
       "<style scoped>\n",
       "    .dataframe tbody tr th:only-of-type {\n",
       "        vertical-align: middle;\n",
       "    }\n",
       "\n",
       "    .dataframe tbody tr th {\n",
       "        vertical-align: top;\n",
       "    }\n",
       "\n",
       "    .dataframe thead th {\n",
       "        text-align: right;\n",
       "    }\n",
       "</style>\n",
       "<table border=\"1\" class=\"dataframe\">\n",
       "  <thead>\n",
       "    <tr style=\"text-align: right;\">\n",
       "      <th></th>\n",
       "      <th>aircraft_code</th>\n",
       "    </tr>\n",
       "  </thead>\n",
       "  <tbody>\n",
       "    <tr>\n",
       "      <th>0</th>\n",
       "      <td>744</td>\n",
       "    </tr>\n",
       "  </tbody>\n",
       "</table>\n",
       "</div>"
      ],
      "text/plain": [
       "  aircraft_code\n",
       "0           744"
      ]
     },
     "execution_count": 11,
     "metadata": {},
     "output_type": "execute_result"
    }
   ],
   "source": [
    "instruction = \"What's the aircraft type with the greatest seating capacity\" \n",
    "query = prepare_query(instruction, \"./prompt.json\")\n",
    "sql_generated = generate_sql(query, llm)\n",
    "pd.read_sql_query(sql_generated, con)"
   ]
  },
  {
   "cell_type": "markdown",
   "id": "efab3df5-98be-4a48-bae5-8d2f3b16877c",
   "metadata": {},
   "source": [
    "3. `What is the name of airport in Orlando ?`\n",
    "\n",
    "Résultat attendu:\n",
    "| airport_name          |\n",
    "| ------------:         |\n",
    "| ORLANDO INTERNATIONAL |"
   ]
  },
  {
   "cell_type": "code",
   "execution_count": 13,
   "id": "9a4b8dc3-2688-40a4-842c-03de47bc6e43",
   "metadata": {
    "tags": []
   },
   "outputs": [
    {
     "data": {
      "text/html": [
       "<div>\n",
       "<style scoped>\n",
       "    .dataframe tbody tr th:only-of-type {\n",
       "        vertical-align: middle;\n",
       "    }\n",
       "\n",
       "    .dataframe tbody tr th {\n",
       "        vertical-align: top;\n",
       "    }\n",
       "\n",
       "    .dataframe thead th {\n",
       "        text-align: right;\n",
       "    }\n",
       "</style>\n",
       "<table border=\"1\" class=\"dataframe\">\n",
       "  <thead>\n",
       "    <tr style=\"text-align: right;\">\n",
       "      <th></th>\n",
       "      <th>airport_name</th>\n",
       "    </tr>\n",
       "  </thead>\n",
       "  <tbody>\n",
       "    <tr>\n",
       "      <th>0</th>\n",
       "      <td>ORLANDO INTERNATIONAL</td>\n",
       "    </tr>\n",
       "  </tbody>\n",
       "</table>\n",
       "</div>"
      ],
      "text/plain": [
       "            airport_name\n",
       "0  ORLANDO INTERNATIONAL"
      ]
     },
     "execution_count": 13,
     "metadata": {},
     "output_type": "execute_result"
    }
   ],
   "source": [
    "instruction = \"What is the name of airport in Orlando ?\"\n",
    "query = prepare_query(instruction, \"./prompt.json\")\n",
    "sql_generated = generate_sql(query, llm)\n",
    "pd.read_sql_query(sql_generated, con)"
   ]
  },
  {
   "cell_type": "markdown",
   "id": "89d1eed6-83d4-419e-b885-e7adb900008f",
   "metadata": {},
   "source": [
    "4. `I need ground transportation in DALLAS please show me what is available`\n",
    "\n",
    "Résultat attendu:\n",
    "| transport_type |\n",
    "| -------------: |\n",
    "| LIMOUSINE      |\n",
    "| RENTAL CAR     |"
   ]
  },
  {
   "cell_type": "code",
   "execution_count": 16,
   "id": "7f1d18b7-eb95-4a86-a85b-5efbdaa59d6f",
   "metadata": {
    "tags": []
   },
   "outputs": [
    {
     "data": {
      "text/html": [
       "<div>\n",
       "<style scoped>\n",
       "    .dataframe tbody tr th:only-of-type {\n",
       "        vertical-align: middle;\n",
       "    }\n",
       "\n",
       "    .dataframe tbody tr th {\n",
       "        vertical-align: top;\n",
       "    }\n",
       "\n",
       "    .dataframe thead th {\n",
       "        text-align: right;\n",
       "    }\n",
       "</style>\n",
       "<table border=\"1\" class=\"dataframe\">\n",
       "  <thead>\n",
       "    <tr style=\"text-align: right;\">\n",
       "      <th></th>\n",
       "      <th>transport_type</th>\n",
       "    </tr>\n",
       "  </thead>\n",
       "  <tbody>\n",
       "    <tr>\n",
       "      <th>0</th>\n",
       "      <td>LIMOUSINE</td>\n",
       "    </tr>\n",
       "    <tr>\n",
       "      <th>1</th>\n",
       "      <td>RENTAL CAR</td>\n",
       "    </tr>\n",
       "  </tbody>\n",
       "</table>\n",
       "</div>"
      ],
      "text/plain": [
       "  transport_type\n",
       "0      LIMOUSINE\n",
       "1     RENTAL CAR"
      ]
     },
     "execution_count": 16,
     "metadata": {},
     "output_type": "execute_result"
    }
   ],
   "source": [
    "instruction = \"I need ground transportation in DALLAS please show me what is available\"\n",
    "query = prepare_query(instruction, \"./prompt.json\")\n",
    "sql_generated = generate_sql(query, llm)\n",
    "pd.read_sql_query(sql_generated, con)"
   ]
  },
  {
   "cell_type": "markdown",
   "id": "1a6f8e9c-b20b-4d1b-95f7-d5198849d27c",
   "metadata": {},
   "source": [
    "5. `Show me the flights from BOSTON to OAKLAND`\n",
    "\n",
    "Résultat attendu:\n",
    "|flight_id |\n",
    "| -------: |\n",
    "| 302340   |\n",
    "| 302341   |\n",
    "| 302342   |\n",
    "| 303432   |\n",
    "| 304884   |\n",
    "| 304885   |\n",
    "| 306660   |\n",
    "| 306661   |\n",
    "| 306662   |\n",
    "| 306663   |\n",
    "| 308971   |\n",
    "| 308972   |"
   ]
  },
  {
   "cell_type": "code",
   "execution_count": 20,
   "id": "f0543ad6-e9a2-41b1-abda-43a305cd5424",
   "metadata": {
    "tags": []
   },
   "outputs": [
    {
     "data": {
      "text/html": [
       "<div>\n",
       "<style scoped>\n",
       "    .dataframe tbody tr th:only-of-type {\n",
       "        vertical-align: middle;\n",
       "    }\n",
       "\n",
       "    .dataframe tbody tr th {\n",
       "        vertical-align: top;\n",
       "    }\n",
       "\n",
       "    .dataframe thead th {\n",
       "        text-align: right;\n",
       "    }\n",
       "</style>\n",
       "<table border=\"1\" class=\"dataframe\">\n",
       "  <thead>\n",
       "    <tr style=\"text-align: right;\">\n",
       "      <th></th>\n",
       "      <th>flight_id</th>\n",
       "    </tr>\n",
       "  </thead>\n",
       "  <tbody>\n",
       "    <tr>\n",
       "      <th>0</th>\n",
       "      <td>302340</td>\n",
       "    </tr>\n",
       "    <tr>\n",
       "      <th>1</th>\n",
       "      <td>302341</td>\n",
       "    </tr>\n",
       "    <tr>\n",
       "      <th>2</th>\n",
       "      <td>302342</td>\n",
       "    </tr>\n",
       "    <tr>\n",
       "      <th>3</th>\n",
       "      <td>303432</td>\n",
       "    </tr>\n",
       "    <tr>\n",
       "      <th>4</th>\n",
       "      <td>304884</td>\n",
       "    </tr>\n",
       "    <tr>\n",
       "      <th>5</th>\n",
       "      <td>304885</td>\n",
       "    </tr>\n",
       "    <tr>\n",
       "      <th>6</th>\n",
       "      <td>306660</td>\n",
       "    </tr>\n",
       "    <tr>\n",
       "      <th>7</th>\n",
       "      <td>306661</td>\n",
       "    </tr>\n",
       "    <tr>\n",
       "      <th>8</th>\n",
       "      <td>306662</td>\n",
       "    </tr>\n",
       "    <tr>\n",
       "      <th>9</th>\n",
       "      <td>306663</td>\n",
       "    </tr>\n",
       "    <tr>\n",
       "      <th>10</th>\n",
       "      <td>308971</td>\n",
       "    </tr>\n",
       "    <tr>\n",
       "      <th>11</th>\n",
       "      <td>308972</td>\n",
       "    </tr>\n",
       "  </tbody>\n",
       "</table>\n",
       "</div>"
      ],
      "text/plain": [
       "    flight_id\n",
       "0      302340\n",
       "1      302341\n",
       "2      302342\n",
       "3      303432\n",
       "4      304884\n",
       "5      304885\n",
       "6      306660\n",
       "7      306661\n",
       "8      306662\n",
       "9      306663\n",
       "10     308971\n",
       "11     308972"
      ]
     },
     "execution_count": 20,
     "metadata": {},
     "output_type": "execute_result"
    }
   ],
   "source": [
    "instruction = \"Show me the flights from BOSTON to OAKLAND\"\n",
    "query = prepare_query(instruction, \"./prompt.json\")\n",
    "sql_generated = generate_sql(query, llm)\n",
    "pd.read_sql_query(sql_generated, con)"
   ]
  },
  {
   "cell_type": "code",
   "execution_count": null,
   "id": "f60c8317-91b4-43f7-bac3-5ec74e9a12ee",
   "metadata": {},
   "outputs": [],
   "source": []
  },
  {
   "cell_type": "code",
   "execution_count": null,
   "id": "81c84b35-81eb-4acf-a549-a68735ac2404",
   "metadata": {},
   "outputs": [],
   "source": []
  }
 ],
 "metadata": {
  "kernelspec": {
   "display_name": "conda_pytorch_p310",
   "language": "python",
   "name": "conda_pytorch_p310"
  },
  "language_info": {
   "codemirror_mode": {
    "name": "ipython",
    "version": 3
   },
   "file_extension": ".py",
   "mimetype": "text/x-python",
   "name": "python",
   "nbconvert_exporter": "python",
   "pygments_lexer": "ipython3",
   "version": "3.10.14"
  }
 },
 "nbformat": 4,
 "nbformat_minor": 5
}
