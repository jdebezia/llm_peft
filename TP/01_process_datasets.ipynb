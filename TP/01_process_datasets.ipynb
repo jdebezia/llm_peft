{
 "cells": [
  {
   "cell_type": "code",
   "execution_count": null,
   "id": "9c697bef",
   "metadata": {},
   "outputs": [],
   "source": [
    "%load_ext autoreload\n",
    "%autoreload 2"
   ]
  },
  {
   "cell_type": "code",
   "execution_count": 4,
   "id": "42664bc9-ba41-43e1-b576-743ce1b4bec5",
   "metadata": {
    "tags": []
   },
   "outputs": [
    {
     "name": "stdout",
     "output_type": "stream",
     "text": [
      "sagemaker.config INFO - Not applying SDK defaults from location: /etc/xdg/sagemaker/config.yaml\n",
      "sagemaker.config INFO - Not applying SDK defaults from location: /home/ec2-user/.config/sagemaker/config.yaml\n"
     ]
    }
   ],
   "source": [
    "import sagemaker\n",
    "\n",
    "from scripts.dataset_processing import process_sql_dataset, split_dataset_by_size, save_to_csv, prepare_datasets"
   ]
  },
  {
   "cell_type": "markdown",
   "id": "75609bfc-9b05-4f8d-ae3e-0d6e6af41a96",
   "metadata": {},
   "source": [
    "# Process and split dataset"
   ]
  },
  {
   "cell_type": "code",
   "execution_count": 5,
   "id": "143ebd10-8d67-44b6-9447-5552a92d56ec",
   "metadata": {
    "tags": []
   },
   "outputs": [],
   "source": [
    "sess = sagemaker.Session()\n",
    "sagemaker_session_bucket = sess.default_bucket()"
   ]
  },
  {
   "cell_type": "code",
   "execution_count": 6,
   "id": "1062f2e9-b2c8-487c-9576-26fa85de13ff",
   "metadata": {
    "tags": []
   },
   "outputs": [
    {
     "name": "stdout",
     "output_type": "stream",
     "text": [
      "Dataset size: 5038\n",
      "Dataset Split Information:\n",
      "Total samples: 4976\n",
      "Train samples: 200 (200)\n",
      "Eval samples: 50 (50)\n",
      "Test samples: 100 (100)\n",
      "Total train samples: 133\n",
      "Total eval samples: 32\n",
      "Total test samples: 66\n"
     ]
    }
   ],
   "source": [
    "# Prepare and process datasets with custom split\n",
    "datasets = prepare_datasets(\n",
    "    # sagemaker_session_bucket=sagemaker_session_bucket,\n",
    "    train_size=200,  \n",
    "    eval_size=50,   \n",
    "    test_size=100,   \n",
    "    chunk_length=2048\n",
    ")"
   ]
  },
  {
   "cell_type": "code",
   "execution_count": 7,
   "id": "5b2ae2b9-4d6d-4b9e-ad11-cddde9c7cd39",
   "metadata": {
    "tags": []
   },
   "outputs": [
    {
     "data": {
      "text/plain": [
       "{'train_tokenized': Dataset({\n",
       "     features: ['input_ids', 'attention_mask', 'labels'],\n",
       "     num_rows: 133\n",
       " }),\n",
       " 'eval_tokenized': Dataset({\n",
       "     features: ['input_ids', 'attention_mask', 'labels'],\n",
       "     num_rows: 32\n",
       " }),\n",
       " 'test_tokenized': Dataset({\n",
       "     features: ['input_ids', 'attention_mask', 'labels'],\n",
       "     num_rows: 66\n",
       " }),\n",
       " 'original_splits': {'dataset': Dataset({\n",
       "      features: ['instruction', 'output', 'source', 'context'],\n",
       "      num_rows: 4976\n",
       "  }),\n",
       "  'train': Dataset({\n",
       "      features: ['instruction', 'output', 'source', 'context'],\n",
       "      num_rows: 200\n",
       "  }),\n",
       "  'eval': Dataset({\n",
       "      features: ['instruction', 'output', 'source', 'context'],\n",
       "      num_rows: 50\n",
       "  }),\n",
       "  'test': Dataset({\n",
       "      features: ['instruction', 'output', 'source', 'context'],\n",
       "      num_rows: 100\n",
       "  })}}"
      ]
     },
     "execution_count": 7,
     "metadata": {},
     "output_type": "execute_result"
    }
   ],
   "source": [
    "datasets"
   ]
  },
  {
   "cell_type": "markdown",
   "id": "ef7afabe-53ac-4f59-9e9e-655dfad90bff",
   "metadata": {},
   "source": [
    "## Save original split dataset"
   ]
  },
  {
   "cell_type": "code",
   "execution_count": 8,
   "id": "4db8f569-c10b-4f23-84a3-42962b090ee1",
   "metadata": {
    "tags": []
   },
   "outputs": [],
   "source": [
    "save_to_csv(datasets['original_splits'][\"train\"], 'data/train_dataset.csv')\n",
    "save_to_csv(datasets['original_splits'][\"eval\"], 'data/eval_dataset.csv')\n",
    "save_to_csv(datasets['original_splits'][\"test\"], 'data/test_dataset.csv')"
   ]
  },
  {
   "cell_type": "code",
   "execution_count": null,
   "id": "f8e8f1a5-6b0f-4691-80e4-51cb7a865465",
   "metadata": {},
   "outputs": [],
   "source": []
  }
 ],
 "metadata": {
  "kernelspec": {
   "display_name": "conda_pytorch_p310",
   "language": "python",
   "name": "conda_pytorch_p310"
  },
  "language_info": {
   "codemirror_mode": {
    "name": "ipython",
    "version": 3
   },
   "file_extension": ".py",
   "mimetype": "text/x-python",
   "name": "python",
   "nbconvert_exporter": "python",
   "pygments_lexer": "ipython3",
   "version": "3.10.14"
  }
 },
 "nbformat": 4,
 "nbformat_minor": 5
}
