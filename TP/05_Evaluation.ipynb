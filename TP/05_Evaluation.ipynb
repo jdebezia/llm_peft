{
 "cells": [
  {
   "cell_type": "code",
   "execution_count": 1,
   "id": "ede6db7c-efa6-4a74-b9f9-7864d3534665",
   "metadata": {
    "tags": []
   },
   "outputs": [],
   "source": [
    "%load_ext autoreload\n",
    "%autoreload 2"
   ]
  },
  {
   "cell_type": "markdown",
   "id": "0da8f6d6-558f-4735-8b48-2abb20163efc",
   "metadata": {},
   "source": [
    "## Evaluation d'un modèle text2SQL "
   ]
  },
  {
   "cell_type": "code",
   "execution_count": 2,
   "id": "175e72f1-f790-43b6-8e4e-5b95f8cfc2b7",
   "metadata": {
    "tags": []
   },
   "outputs": [
    {
     "name": "stdout",
     "output_type": "stream",
     "text": [
      "sagemaker.config INFO - Not applying SDK defaults from location: /etc/xdg/sagemaker/config.yaml\n",
      "sagemaker.config INFO - Not applying SDK defaults from location: /home/ec2-user/.config/sagemaker/config.yaml\n"
     ]
    }
   ],
   "source": [
    "from random import sample\n",
    "import pandas as pd\n",
    "import sqlite3\n",
    "import sagemaker\n",
    "from datasets import load_from_disk\n",
    "from transformers import AutoTokenizer, AutoModelForCausalLM\n",
    "from scripts.evaluate import evaluate_query\n",
    "from scripts.llm import LLM, prepare_query, generate_sql"
   ]
  },
  {
   "cell_type": "markdown",
   "id": "533be4e4-9493-4731-96e9-b825bef48939",
   "metadata": {},
   "source": [
    "Parcourir toutes chaque ligne du dataset de test, générer le SQL. Evaluer par rapport à la ground truth."
   ]
  },
  {
   "cell_type": "markdown",
   "id": "468ea1b0-0217-4eb5-adc5-0d68918fa5a4",
   "metadata": {},
   "source": [
    "Exemple d'usage"
   ]
  },
  {
   "cell_type": "code",
   "execution_count": 3,
   "id": "6ab01e99-6722-41a3-9b98-e0dd35ffc37a",
   "metadata": {
    "tags": []
   },
   "outputs": [],
   "source": [
    "sess = sagemaker.Session()\n",
    "sagemaker_session_bucket = sess.default_bucket()"
   ]
  },
  {
   "cell_type": "code",
   "execution_count": 4,
   "id": "35a605b1-b297-4a87-a762-2a83022833ce",
   "metadata": {
    "tags": []
   },
   "outputs": [
    {
     "name": "stderr",
     "output_type": "stream",
     "text": [
      "/home/ec2-user/anaconda3/envs/pytorch_p310/lib/python3.10/site-packages/fsspec/registry.py:279: UserWarning: Your installed version of s3fs is very old and known to cause\n",
      "severe performance issues, see also https://github.com/dask/dask/issues/10276\n",
      "\n",
      "To fix, you should specify a lower version bound on s3fs, or\n",
      "update the current installation.\n",
      "\n",
      "  warnings.warn(s3_msg)\n"
     ]
    }
   ],
   "source": [
    "lm_dataset_test = load_from_disk(f's3://{sagemaker_session_bucket}/text_2_sql/dataset/test')"
   ]
  },
  {
   "cell_type": "code",
   "execution_count": 5,
   "id": "b217b269-4b43-4da7-99e1-ec2ef6b6f464",
   "metadata": {
    "tags": []
   },
   "outputs": [],
   "source": [
    "dbfile = \"sqllite/atis-db.sqlite\"\n",
    "con = sqlite3.connect(dbfile)"
   ]
  },
  {
   "cell_type": "code",
   "execution_count": 6,
   "id": "e7576303-6146-4297-b950-d443631550ff",
   "metadata": {
    "tags": []
   },
   "outputs": [
    {
     "data": {
      "text/plain": [
       "{'valid_llm_query': True,\n",
       " 'valid_llm_query_result': True,\n",
       " 'faster_or_equal_llm_query_exec_time': False}"
      ]
     },
     "execution_count": 6,
     "metadata": {},
     "output_type": "execute_result"
    }
   ],
   "source": [
    "evaluate_query(\"SELECT * FROM aircraft LIMIT 1\", \"SELECT * FROM aircraft LIMIT 1\", con)"
   ]
  },
  {
   "cell_type": "markdown",
   "id": "093607d2-c02d-44b8-a491-3332b35ef135",
   "metadata": {
    "tags": []
   },
   "source": [
    "Vous retourne les résultats sur 3 métriques : {'valid_llm_query': True,\n",
    " 'valid_llm_query_result': True,\n",
    " 'faster_or_equal_llm_query_exec_time': True}"
   ]
  },
  {
   "cell_type": "markdown",
   "id": "3085d3f3-7f4e-4cf8-88e1-c5366bc28526",
   "metadata": {},
   "source": [
    "## Sortir les métriques avec et sans finetuning"
   ]
  },
  {
   "cell_type": "code",
   "execution_count": 7,
   "id": "fc33fae1-853f-4cb5-9c5a-f9ddcd206661",
   "metadata": {
    "tags": []
   },
   "outputs": [],
   "source": [
    "model_id = \"Qwen/Qwen2-1.5B-Instruct\"\n",
    "tokenizer = AutoTokenizer.from_pretrained(model_id)\n",
    "model = AutoModelForCausalLM.from_pretrained(\n",
    "    \"./finetuned_llm/qwen2\",\n",
    "    torch_dtype=\"auto\",\n",
    "    device_map=\"auto\",\n",
    "    max_memory={0: \"5GB\"}\n",
    ")\n",
    "llm = LLM(model=model, tokenizer=tokenizer)"
   ]
  },
  {
   "cell_type": "code",
   "execution_count": 8,
   "id": "741bd3d5-7258-4dd1-bc04-2447294fc2ad",
   "metadata": {
    "tags": []
   },
   "outputs": [],
   "source": [
    "random_test_idx = sample(range(len(lm_dataset_test)), 5)\n",
    "model_evaluation = []\n",
    "for idx in random_test_idx:\n",
    "    query = prepare_query(lm_dataset_test[idx][\"instruction\"], \"./prompt.json\")\n",
    "    sql_generated = generate_sql(query, llm)\n",
    "    model_evaluation.append(evaluate_query(sql_generated, lm_dataset_test[idx][\"output\"], con))"
   ]
  },
  {
   "cell_type": "code",
   "execution_count": 9,
   "id": "b77f0d57-640e-4709-992b-539f56508c91",
   "metadata": {
    "tags": []
   },
   "outputs": [],
   "source": [
    "df = pd.DataFrame(model_evaluation)"
   ]
  },
  {
   "cell_type": "code",
   "execution_count": 10,
   "id": "1a4aa510-83c3-4369-b394-4404416178c4",
   "metadata": {
    "tags": []
   },
   "outputs": [
    {
     "data": {
      "text/html": [
       "<div>\n",
       "<style scoped>\n",
       "    .dataframe tbody tr th:only-of-type {\n",
       "        vertical-align: middle;\n",
       "    }\n",
       "\n",
       "    .dataframe tbody tr th {\n",
       "        vertical-align: top;\n",
       "    }\n",
       "\n",
       "    .dataframe thead th {\n",
       "        text-align: right;\n",
       "    }\n",
       "</style>\n",
       "<table border=\"1\" class=\"dataframe\">\n",
       "  <thead>\n",
       "    <tr style=\"text-align: right;\">\n",
       "      <th></th>\n",
       "      <th>valid_llm_query</th>\n",
       "      <th>valid_llm_query_result</th>\n",
       "      <th>faster_or_equal_llm_query_exec_time</th>\n",
       "    </tr>\n",
       "  </thead>\n",
       "  <tbody>\n",
       "    <tr>\n",
       "      <th>0</th>\n",
       "      <td>True</td>\n",
       "      <td>False</td>\n",
       "      <td>False</td>\n",
       "    </tr>\n",
       "    <tr>\n",
       "      <th>1</th>\n",
       "      <td>True</td>\n",
       "      <td>True</td>\n",
       "      <td>True</td>\n",
       "    </tr>\n",
       "    <tr>\n",
       "      <th>2</th>\n",
       "      <td>True</td>\n",
       "      <td>False</td>\n",
       "      <td>False</td>\n",
       "    </tr>\n",
       "    <tr>\n",
       "      <th>3</th>\n",
       "      <td>True</td>\n",
       "      <td>False</td>\n",
       "      <td>False</td>\n",
       "    </tr>\n",
       "    <tr>\n",
       "      <th>4</th>\n",
       "      <td>True</td>\n",
       "      <td>False</td>\n",
       "      <td>False</td>\n",
       "    </tr>\n",
       "  </tbody>\n",
       "</table>\n",
       "</div>"
      ],
      "text/plain": [
       "   valid_llm_query  valid_llm_query_result  \\\n",
       "0             True                   False   \n",
       "1             True                    True   \n",
       "2             True                   False   \n",
       "3             True                   False   \n",
       "4             True                   False   \n",
       "\n",
       "   faster_or_equal_llm_query_exec_time  \n",
       "0                                False  \n",
       "1                                 True  \n",
       "2                                False  \n",
       "3                                False  \n",
       "4                                False  "
      ]
     },
     "execution_count": 10,
     "metadata": {},
     "output_type": "execute_result"
    }
   ],
   "source": [
    "df"
   ]
  },
  {
   "cell_type": "code",
   "execution_count": 11,
   "id": "a578165c-7876-4c55-8d78-60f9cf75e0f4",
   "metadata": {
    "tags": []
   },
   "outputs": [
    {
     "name": "stdout",
     "output_type": "stream",
     "text": [
      "Pourcentage des syntaxes des requêtes générées correctes: 100.00 %\n",
      "Pourcentage des résultats générés corrects: 20.00 %\n",
      "Pourcentage du temps d'exécution des requêtes générées moins long: 20.00 %\n"
     ]
    }
   ],
   "source": [
    "print(\"Pourcentage des syntaxes des requêtes générées correctes: {:.2f} %\".format((df[\"valid_llm_query\"].sum()/df.shape[0])*100))\n",
    "print(\"Pourcentage des résultats générés corrects: {:.2f} %\".format((df[\"valid_llm_query_result\"].sum()/df.shape[0])*100))\n",
    "print(\"Pourcentage du temps d'exécution des requêtes générées moins long: {:.2f} %\".format((df[\"faster_or_equal_llm_query_exec_time\"].sum()/df.shape[0])*100))"
   ]
  },
  {
   "cell_type": "code",
   "execution_count": null,
   "id": "6e168ee8-39c1-402a-afc4-759203ee1c67",
   "metadata": {},
   "outputs": [],
   "source": []
  }
 ],
 "metadata": {
  "kernelspec": {
   "display_name": "conda_pytorch_p310",
   "language": "python",
   "name": "conda_pytorch_p310"
  },
  "language_info": {
   "codemirror_mode": {
    "name": "ipython",
    "version": 3
   },
   "file_extension": ".py",
   "mimetype": "text/x-python",
   "name": "python",
   "nbconvert_exporter": "python",
   "pygments_lexer": "ipython3",
   "version": "3.10.14"
  }
 },
 "nbformat": 4,
 "nbformat_minor": 5
}
