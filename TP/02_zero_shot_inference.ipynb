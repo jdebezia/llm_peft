{
 "cells": [
  {
   "cell_type": "code",
   "execution_count": null,
   "id": "d5e036d9",
   "metadata": {},
   "outputs": [],
   "source": [
    "%load_ext autoreload\n",
    "%autoreload 2"
   ]
  },
  {
   "cell_type": "code",
   "execution_count": 2,
   "id": "cb545a76-0273-4d2d-821a-670857f56281",
   "metadata": {
    "tags": []
   },
   "outputs": [],
   "source": [
    "import pandas as pd\n",
    "import sqlite3\n",
    "from transformers import AutoTokenizer, AutoModelForCausalLM\n",
    "\n",
    "from scripts.llm import LLM, prepare_query, generate_sql"
   ]
  },
  {
   "cell_type": "markdown",
   "id": "27cbefb8-0bad-4434-9a93-3b9b0d39628e",
   "metadata": {},
   "source": [
    "## Chargment du LLM pré-entraîné"
   ]
  },
  {
   "cell_type": "code",
   "execution_count": 3,
   "id": "b603de1f-4dbf-482f-bc65-5a85fd752f71",
   "metadata": {
    "tags": []
   },
   "outputs": [],
   "source": [
    "model_id = \"Qwen/Qwen2-1.5B-Instruct\""
   ]
  },
  {
   "cell_type": "code",
   "execution_count": 4,
   "id": "4c1def98-bf33-4648-9627-f57c435b3556",
   "metadata": {
    "tags": []
   },
   "outputs": [],
   "source": [
    "tokenizer = AutoTokenizer.from_pretrained(model_id)"
   ]
  },
  {
   "cell_type": "code",
   "execution_count": 5,
   "id": "5c7cfcc5-f69f-49e7-88ea-a228c37aa479",
   "metadata": {
    "tags": []
   },
   "outputs": [],
   "source": [
    "model = AutoModelForCausalLM.from_pretrained(\n",
    "    model_id,\n",
    "    torch_dtype=\"auto\",\n",
    "    device_map=\"auto\",\n",
    "    max_memory={0: \"5GB\"}\n",
    ")"
   ]
  },
  {
   "cell_type": "code",
   "execution_count": 6,
   "id": "1abf9fa8-ba72-454f-88e5-9e35afce0d7f",
   "metadata": {
    "tags": []
   },
   "outputs": [],
   "source": [
    "llm = LLM(model=model, tokenizer=tokenizer)"
   ]
  },
  {
   "cell_type": "markdown",
   "id": "f798705e-e085-4dfe-8dba-0e46ee780667",
   "metadata": {},
   "source": [
    "## Instanciation de la BDD"
   ]
  },
  {
   "cell_type": "code",
   "execution_count": 7,
   "id": "4e20ac62-a81c-46bf-889c-d586caabab46",
   "metadata": {
    "tags": []
   },
   "outputs": [],
   "source": [
    "# creating file path\n",
    "dbfile = \"sqllite/atis-db.sqlite\"\n",
    "con = sqlite3.connect(dbfile)"
   ]
  },
  {
   "cell_type": "markdown",
   "id": "f1fe912c-a187-41f5-b1cd-97ca208a2ac4",
   "metadata": {},
   "source": [
    "## Requêtes SQL à tester:"
   ]
  },
  {
   "cell_type": "markdown",
   "id": "c22db782-f2a6-4e31-84ad-66b4876e58ef",
   "metadata": {
    "tags": []
   },
   "source": [
    "1. `List ground transportation in BALTIMORE`\n",
    "\n",
    "Résultat attendu:\n",
    "| transport_type     |\n",
    "| -----------------: |\n",
    "| AIR TAXI OPERATION |\n",
    "| LIMOUSINE          |\n",
    "| RENTAL CAR         |"
   ]
  },
  {
   "cell_type": "code",
   "execution_count": 8,
   "id": "25b92853-9721-460a-8074-046009ceca11",
   "metadata": {
    "tags": []
   },
   "outputs": [
    {
     "data": {
      "text/html": [
       "<div>\n",
       "<style scoped>\n",
       "    .dataframe tbody tr th:only-of-type {\n",
       "        vertical-align: middle;\n",
       "    }\n",
       "\n",
       "    .dataframe tbody tr th {\n",
       "        vertical-align: top;\n",
       "    }\n",
       "\n",
       "    .dataframe thead th {\n",
       "        text-align: right;\n",
       "    }\n",
       "</style>\n",
       "<table border=\"1\" class=\"dataframe\">\n",
       "  <thead>\n",
       "    <tr style=\"text-align: right;\">\n",
       "      <th></th>\n",
       "      <th>city_code</th>\n",
       "      <th>airport_code</th>\n",
       "      <th>transport_type</th>\n",
       "      <th>ground_fare</th>\n",
       "    </tr>\n",
       "  </thead>\n",
       "  <tbody>\n",
       "  </tbody>\n",
       "</table>\n",
       "</div>"
      ],
      "text/plain": [
       "Empty DataFrame\n",
       "Columns: [city_code, airport_code, transport_type, ground_fare]\n",
       "Index: []"
      ]
     },
     "execution_count": 8,
     "metadata": {},
     "output_type": "execute_result"
    }
   ],
   "source": [
    "instruction = \"List ground transportation in BALTIMORE\"\n",
    "query = prepare_query(instruction, \"./prompt.json\")\n",
    "sql_generated = generate_sql(query, llm)\n",
    "pd.read_sql_query(sql_generated, con)"
   ]
  },
  {
   "cell_type": "markdown",
   "id": "42ade9ad-4577-4fc4-b159-742655421150",
   "metadata": {},
   "source": [
    "2. `what is the aircraft type with the greatest seating capacity`\n",
    "\n",
    "Résultat attendu:\n",
    "| aircraft_code |\n",
    "| ------------: |\n",
    "| 744           |"
   ]
  },
  {
   "cell_type": "code",
   "execution_count": 9,
   "id": "619b32dd-fbc2-4e4c-a601-85978280c144",
   "metadata": {
    "tags": []
   },
   "outputs": [
    {
     "data": {
      "text/html": [
       "<div>\n",
       "<style scoped>\n",
       "    .dataframe tbody tr th:only-of-type {\n",
       "        vertical-align: middle;\n",
       "    }\n",
       "\n",
       "    .dataframe tbody tr th {\n",
       "        vertical-align: top;\n",
       "    }\n",
       "\n",
       "    .dataframe thead th {\n",
       "        text-align: right;\n",
       "    }\n",
       "</style>\n",
       "<table border=\"1\" class=\"dataframe\">\n",
       "  <thead>\n",
       "    <tr style=\"text-align: right;\">\n",
       "      <th></th>\n",
       "      <th>aircraft_description</th>\n",
       "    </tr>\n",
       "  </thead>\n",
       "  <tbody>\n",
       "    <tr>\n",
       "      <th>0</th>\n",
       "      <td>BOEING 747-400 PASSENGER</td>\n",
       "    </tr>\n",
       "  </tbody>\n",
       "</table>\n",
       "</div>"
      ],
      "text/plain": [
       "       aircraft_description\n",
       "0  BOEING 747-400 PASSENGER"
      ]
     },
     "execution_count": 9,
     "metadata": {},
     "output_type": "execute_result"
    }
   ],
   "source": [
    "instruction = \"what is the aircraft type with the greatest seating capacity\" #\"What's the aircraft type with the greatest seating capacity ?\"\n",
    "query = prepare_query(instruction, \"./prompt.json\")\n",
    "sql_generated = generate_sql(query, llm)\n",
    "pd.read_sql_query(sql_generated, con)"
   ]
  },
  {
   "cell_type": "markdown",
   "id": "efab3df5-98be-4a48-bae5-8d2f3b16877c",
   "metadata": {},
   "source": [
    "3. `What's the name of airport in Orlando ?`\n",
    "\n",
    "Résultat attendu:\n",
    "| airport_name          |\n",
    "| ------------:         |\n",
    "| ORLANDO INTERNATIONAL |"
   ]
  },
  {
   "cell_type": "code",
   "execution_count": 10,
   "id": "9a4b8dc3-2688-40a4-842c-03de47bc6e43",
   "metadata": {
    "tags": []
   },
   "outputs": [
    {
     "data": {
      "text/html": [
       "<div>\n",
       "<style scoped>\n",
       "    .dataframe tbody tr th:only-of-type {\n",
       "        vertical-align: middle;\n",
       "    }\n",
       "\n",
       "    .dataframe tbody tr th {\n",
       "        vertical-align: top;\n",
       "    }\n",
       "\n",
       "    .dataframe thead th {\n",
       "        text-align: right;\n",
       "    }\n",
       "</style>\n",
       "<table border=\"1\" class=\"dataframe\">\n",
       "  <thead>\n",
       "    <tr style=\"text-align: right;\">\n",
       "      <th></th>\n",
       "      <th>airport_name</th>\n",
       "    </tr>\n",
       "  </thead>\n",
       "  <tbody>\n",
       "    <tr>\n",
       "      <th>0</th>\n",
       "      <td>ORLANDO INTERNATIONAL</td>\n",
       "    </tr>\n",
       "  </tbody>\n",
       "</table>\n",
       "</div>"
      ],
      "text/plain": [
       "            airport_name\n",
       "0  ORLANDO INTERNATIONAL"
      ]
     },
     "execution_count": 10,
     "metadata": {},
     "output_type": "execute_result"
    }
   ],
   "source": [
    "instruction = \"What's the name of airport in Orlando ?\"\n",
    "query = prepare_query(instruction, \"./prompt.json\")\n",
    "sql_generated = generate_sql(query, llm)\n",
    "pd.read_sql_query(sql_generated, con)"
   ]
  },
  {
   "cell_type": "markdown",
   "id": "89d1eed6-83d4-419e-b885-e7adb900008f",
   "metadata": {},
   "source": [
    "4. `I need ground transportation in Dallas please show me what 's available`\n",
    "\n",
    "Résultat attendu:\n",
    "| transport_type |\n",
    "| -------------: |\n",
    "| LIMOUSINE      |\n",
    "| RENTAL CAR     |"
   ]
  },
  {
   "cell_type": "code",
   "execution_count": 11,
   "id": "7f1d18b7-eb95-4a86-a85b-5efbdaa59d6f",
   "metadata": {
    "tags": []
   },
   "outputs": [
    {
     "data": {
      "text/html": [
       "<div>\n",
       "<style scoped>\n",
       "    .dataframe tbody tr th:only-of-type {\n",
       "        vertical-align: middle;\n",
       "    }\n",
       "\n",
       "    .dataframe tbody tr th {\n",
       "        vertical-align: top;\n",
       "    }\n",
       "\n",
       "    .dataframe thead th {\n",
       "        text-align: right;\n",
       "    }\n",
       "</style>\n",
       "<table border=\"1\" class=\"dataframe\">\n",
       "  <thead>\n",
       "    <tr style=\"text-align: right;\">\n",
       "      <th></th>\n",
       "      <th>city_code</th>\n",
       "      <th>airport_code</th>\n",
       "      <th>transport_type</th>\n",
       "      <th>ground_fare</th>\n",
       "    </tr>\n",
       "  </thead>\n",
       "  <tbody>\n",
       "  </tbody>\n",
       "</table>\n",
       "</div>"
      ],
      "text/plain": [
       "Empty DataFrame\n",
       "Columns: [city_code, airport_code, transport_type, ground_fare]\n",
       "Index: []"
      ]
     },
     "execution_count": 11,
     "metadata": {},
     "output_type": "execute_result"
    }
   ],
   "source": [
    "instruction = \"I need ground transportation in Dallas please show me what 's available\"\n",
    "query = prepare_query(instruction, \"./prompt.json\")\n",
    "sql_generated = generate_sql(query, llm)\n",
    "pd.read_sql_query(sql_generated, con)"
   ]
  },
  {
   "cell_type": "markdown",
   "id": "1a6f8e9c-b20b-4d1b-95f7-d5198849d27c",
   "metadata": {},
   "source": [
    "5. `Show me the flights from Boston to Oakland`\n",
    "\n",
    "Résultat attendu:\n",
    "|flight_id |\n",
    "| -------: |\n",
    "| 302340   |\n",
    "| 302341   |\n",
    "| 302342   |\n",
    "| 303432   |\n",
    "| 304884   |\n",
    "| 304885   |\n",
    "| 306660   |\n",
    "| 306661   |\n",
    "| 306662   |\n",
    "| 306663   |\n",
    "| 308971   |\n",
    "| 308972   |"
   ]
  },
  {
   "cell_type": "code",
   "execution_count": 12,
   "id": "f0543ad6-e9a2-41b1-abda-43a305cd5424",
   "metadata": {
    "tags": []
   },
   "outputs": [
    {
     "ename": "DatabaseError",
     "evalue": "Execution failed on sql ' SELECT * FROM flight WHERE departure_airport = 'TORONTO' AND TO_airport = 'SALT LAKE CITY';': no such column: departure_airport",
     "output_type": "error",
     "traceback": [
      "\u001b[0;31m---------------------------------------------------------------------------\u001b[0m",
      "\u001b[0;31mOperationalError\u001b[0m                          Traceback (most recent call last)",
      "File \u001b[0;32m~/anaconda3/envs/pytorch_p310/lib/python3.10/site-packages/pandas/io/sql.py:2018\u001b[0m, in \u001b[0;36mSQLiteDatabase.execute\u001b[0;34m(self, *args, **kwargs)\u001b[0m\n\u001b[1;32m   2017\u001b[0m \u001b[38;5;28;01mtry\u001b[39;00m:\n\u001b[0;32m-> 2018\u001b[0m     \u001b[43mcur\u001b[49m\u001b[38;5;241;43m.\u001b[39;49m\u001b[43mexecute\u001b[49m\u001b[43m(\u001b[49m\u001b[38;5;241;43m*\u001b[39;49m\u001b[43margs\u001b[49m\u001b[43m,\u001b[49m\u001b[43m \u001b[49m\u001b[38;5;241;43m*\u001b[39;49m\u001b[38;5;241;43m*\u001b[39;49m\u001b[43mkwargs\u001b[49m\u001b[43m)\u001b[49m\n\u001b[1;32m   2019\u001b[0m     \u001b[38;5;28;01mreturn\u001b[39;00m cur\n",
      "\u001b[0;31mOperationalError\u001b[0m: no such column: departure_airport",
      "\nThe above exception was the direct cause of the following exception:\n",
      "\u001b[0;31mDatabaseError\u001b[0m                             Traceback (most recent call last)",
      "Cell \u001b[0;32mIn[12], line 4\u001b[0m\n\u001b[1;32m      2\u001b[0m query \u001b[38;5;241m=\u001b[39m prepare_query(instruction, \u001b[38;5;124m\"\u001b[39m\u001b[38;5;124m./prompt.json\u001b[39m\u001b[38;5;124m\"\u001b[39m)\n\u001b[1;32m      3\u001b[0m sql_generated \u001b[38;5;241m=\u001b[39m generate_sql(query, llm)\n\u001b[0;32m----> 4\u001b[0m \u001b[43mpd\u001b[49m\u001b[38;5;241;43m.\u001b[39;49m\u001b[43mread_sql_query\u001b[49m\u001b[43m(\u001b[49m\u001b[43msql_generated\u001b[49m\u001b[43m,\u001b[49m\u001b[43m \u001b[49m\u001b[43mcon\u001b[49m\u001b[43m)\u001b[49m\n",
      "File \u001b[0;32m~/anaconda3/envs/pytorch_p310/lib/python3.10/site-packages/pandas/io/sql.py:397\u001b[0m, in \u001b[0;36mread_sql_query\u001b[0;34m(sql, con, index_col, coerce_float, params, parse_dates, chunksize, dtype)\u001b[0m\n\u001b[1;32m    339\u001b[0m \u001b[38;5;250m\u001b[39m\u001b[38;5;124;03m\"\"\"\u001b[39;00m\n\u001b[1;32m    340\u001b[0m \u001b[38;5;124;03mRead SQL query into a DataFrame.\u001b[39;00m\n\u001b[1;32m    341\u001b[0m \n\u001b[0;32m   (...)\u001b[0m\n\u001b[1;32m    394\u001b[0m \u001b[38;5;124;03mparameter will be converted to UTC.\u001b[39;00m\n\u001b[1;32m    395\u001b[0m \u001b[38;5;124;03m\"\"\"\u001b[39;00m\n\u001b[1;32m    396\u001b[0m pandas_sql \u001b[38;5;241m=\u001b[39m pandasSQL_builder(con)\n\u001b[0;32m--> 397\u001b[0m \u001b[38;5;28;01mreturn\u001b[39;00m \u001b[43mpandas_sql\u001b[49m\u001b[38;5;241;43m.\u001b[39;49m\u001b[43mread_query\u001b[49m\u001b[43m(\u001b[49m\n\u001b[1;32m    398\u001b[0m \u001b[43m    \u001b[49m\u001b[43msql\u001b[49m\u001b[43m,\u001b[49m\n\u001b[1;32m    399\u001b[0m \u001b[43m    \u001b[49m\u001b[43mindex_col\u001b[49m\u001b[38;5;241;43m=\u001b[39;49m\u001b[43mindex_col\u001b[49m\u001b[43m,\u001b[49m\n\u001b[1;32m    400\u001b[0m \u001b[43m    \u001b[49m\u001b[43mparams\u001b[49m\u001b[38;5;241;43m=\u001b[39;49m\u001b[43mparams\u001b[49m\u001b[43m,\u001b[49m\n\u001b[1;32m    401\u001b[0m \u001b[43m    \u001b[49m\u001b[43mcoerce_float\u001b[49m\u001b[38;5;241;43m=\u001b[39;49m\u001b[43mcoerce_float\u001b[49m\u001b[43m,\u001b[49m\n\u001b[1;32m    402\u001b[0m \u001b[43m    \u001b[49m\u001b[43mparse_dates\u001b[49m\u001b[38;5;241;43m=\u001b[39;49m\u001b[43mparse_dates\u001b[49m\u001b[43m,\u001b[49m\n\u001b[1;32m    403\u001b[0m \u001b[43m    \u001b[49m\u001b[43mchunksize\u001b[49m\u001b[38;5;241;43m=\u001b[39;49m\u001b[43mchunksize\u001b[49m\u001b[43m,\u001b[49m\n\u001b[1;32m    404\u001b[0m \u001b[43m    \u001b[49m\u001b[43mdtype\u001b[49m\u001b[38;5;241;43m=\u001b[39;49m\u001b[43mdtype\u001b[49m\u001b[43m,\u001b[49m\n\u001b[1;32m    405\u001b[0m \u001b[43m\u001b[49m\u001b[43m)\u001b[49m\n",
      "File \u001b[0;32m~/anaconda3/envs/pytorch_p310/lib/python3.10/site-packages/pandas/io/sql.py:2078\u001b[0m, in \u001b[0;36mSQLiteDatabase.read_query\u001b[0;34m(self, sql, index_col, coerce_float, params, parse_dates, chunksize, dtype)\u001b[0m\n\u001b[1;32m   2066\u001b[0m \u001b[38;5;28;01mdef\u001b[39;00m \u001b[38;5;21mread_query\u001b[39m(\n\u001b[1;32m   2067\u001b[0m     \u001b[38;5;28mself\u001b[39m,\n\u001b[1;32m   2068\u001b[0m     sql,\n\u001b[0;32m   (...)\u001b[0m\n\u001b[1;32m   2074\u001b[0m     dtype: DtypeArg \u001b[38;5;241m|\u001b[39m \u001b[38;5;28;01mNone\u001b[39;00m \u001b[38;5;241m=\u001b[39m \u001b[38;5;28;01mNone\u001b[39;00m,\n\u001b[1;32m   2075\u001b[0m ) \u001b[38;5;241m-\u001b[39m\u001b[38;5;241m>\u001b[39m DataFrame \u001b[38;5;241m|\u001b[39m Iterator[DataFrame]:\n\u001b[1;32m   2077\u001b[0m     args \u001b[38;5;241m=\u001b[39m _convert_params(sql, params)\n\u001b[0;32m-> 2078\u001b[0m     cursor \u001b[38;5;241m=\u001b[39m \u001b[38;5;28;43mself\u001b[39;49m\u001b[38;5;241;43m.\u001b[39;49m\u001b[43mexecute\u001b[49m\u001b[43m(\u001b[49m\u001b[38;5;241;43m*\u001b[39;49m\u001b[43margs\u001b[49m\u001b[43m)\u001b[49m\n\u001b[1;32m   2079\u001b[0m     columns \u001b[38;5;241m=\u001b[39m [col_desc[\u001b[38;5;241m0\u001b[39m] \u001b[38;5;28;01mfor\u001b[39;00m col_desc \u001b[38;5;129;01min\u001b[39;00m cursor\u001b[38;5;241m.\u001b[39mdescription]\n\u001b[1;32m   2081\u001b[0m     \u001b[38;5;28;01mif\u001b[39;00m chunksize \u001b[38;5;129;01mis\u001b[39;00m \u001b[38;5;129;01mnot\u001b[39;00m \u001b[38;5;28;01mNone\u001b[39;00m:\n",
      "File \u001b[0;32m~/anaconda3/envs/pytorch_p310/lib/python3.10/site-packages/pandas/io/sql.py:2030\u001b[0m, in \u001b[0;36mSQLiteDatabase.execute\u001b[0;34m(self, *args, **kwargs)\u001b[0m\n\u001b[1;32m   2027\u001b[0m     \u001b[38;5;28;01mraise\u001b[39;00m ex \u001b[38;5;28;01mfrom\u001b[39;00m \u001b[38;5;21;01minner_exc\u001b[39;00m\n\u001b[1;32m   2029\u001b[0m ex \u001b[38;5;241m=\u001b[39m DatabaseError(\u001b[38;5;124mf\u001b[39m\u001b[38;5;124m\"\u001b[39m\u001b[38;5;124mExecution failed on sql \u001b[39m\u001b[38;5;124m'\u001b[39m\u001b[38;5;132;01m{\u001b[39;00margs[\u001b[38;5;241m0\u001b[39m]\u001b[38;5;132;01m}\u001b[39;00m\u001b[38;5;124m'\u001b[39m\u001b[38;5;124m: \u001b[39m\u001b[38;5;132;01m{\u001b[39;00mexc\u001b[38;5;132;01m}\u001b[39;00m\u001b[38;5;124m\"\u001b[39m)\n\u001b[0;32m-> 2030\u001b[0m \u001b[38;5;28;01mraise\u001b[39;00m ex \u001b[38;5;28;01mfrom\u001b[39;00m \u001b[38;5;21;01mexc\u001b[39;00m\n",
      "\u001b[0;31mDatabaseError\u001b[0m: Execution failed on sql ' SELECT * FROM flight WHERE departure_airport = 'TORONTO' AND TO_airport = 'SALT LAKE CITY';': no such column: departure_airport"
     ]
    }
   ],
   "source": [
    "instruction = \"Tell me about flights from TORONTO to SALT LAKE CITY\"\n",
    "query = prepare_query(instruction, \"./prompt.json\")\n",
    "sql_generated = generate_sql(query, llm)\n",
    "pd.read_sql_query(sql_generated, con)"
   ]
  },
  {
   "cell_type": "code",
   "execution_count": null,
   "id": "f60c8317-91b4-43f7-bac3-5ec74e9a12ee",
   "metadata": {},
   "outputs": [],
   "source": []
  }
 ],
 "metadata": {
  "kernelspec": {
   "display_name": "conda_pytorch_p310",
   "language": "python",
   "name": "conda_pytorch_p310"
  },
  "language_info": {
   "codemirror_mode": {
    "name": "ipython",
    "version": 3
   },
   "file_extension": ".py",
   "mimetype": "text/x-python",
   "name": "python",
   "nbconvert_exporter": "python",
   "pygments_lexer": "ipython3",
   "version": "3.10.14"
  }
 },
 "nbformat": 4,
 "nbformat_minor": 5
}
